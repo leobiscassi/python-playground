{
 "cells": [
  {
   "cell_type": "markdown",
   "metadata": {},
   "source": [
    "# PySpark Cassandra Tutorial"
   ]
  },
  {
   "cell_type": "code",
   "execution_count": 1,
   "metadata": {},
   "outputs": [],
   "source": [
    "#  I'm testing this https://github.com/anguenot/pyspark-cassandra\n",
    "import pyspark_cassandra"
   ]
  },
  {
   "cell_type": "code",
   "execution_count": 2,
   "metadata": {},
   "outputs": [],
   "source": [
    "activity_rdd = sc.cassandraTable('home_security', 'activity')"
   ]
  },
  {
   "cell_type": "code",
   "execution_count": 13,
   "metadata": {},
   "outputs": [
    {
     "data": {
      "text/plain": [
       "6"
      ]
     },
     "execution_count": 13,
     "metadata": {},
     "output_type": "execute_result"
    }
   ],
   "source": [
    "activity_rdd.count()"
   ]
  },
  {
   "cell_type": "code",
   "execution_count": 4,
   "metadata": {},
   "outputs": [
    {
     "data": {
      "text/plain": [
       "[Row(code_used='2121', datetime=datetime.datetime(2014, 5, 21, 1, 55, 12, tzinfo=<DstTzInfo 'America/Sao_Paulo' -03-1 day, 21:00:00 STD>), event='alarm set off', home_id='H01033638'),\n",
       " Row(code_used='2121', datetime=datetime.datetime(2014, 5, 21, 1, 33, 43, tzinfo=<DstTzInfo 'America/Sao_Paulo' -03-1 day, 21:00:00 STD>), event='alarm turned off', home_id='H01033638'),\n",
       " Row(code_used='2121', datetime=datetime.datetime(2014, 5, 21, 1, 32, 34, tzinfo=<DstTzInfo 'America/Sao_Paulo' -03-1 day, 21:00:00 STD>), event='alarm set', home_id='H01033638'),\n",
       " Row(code_used='5599', datetime=datetime.datetime(2014, 5, 20, 23, 32, 4, tzinfo=<DstTzInfo 'America/Sao_Paulo' -03-1 day, 21:00:00 STD>), event='alarm set', home_id='H01474777'),\n",
       " Row(code_used='1566', datetime=datetime.datetime(2014, 5, 20, 23, 29, 47, tzinfo=<DstTzInfo 'America/Sao_Paulo' -03-1 day, 21:00:00 STD>), event='alarm set', home_id='H02257222')]"
      ]
     },
     "execution_count": 4,
     "metadata": {},
     "output_type": "execute_result"
    }
   ],
   "source": [
    "activity_rdd.take(5)"
   ]
  },
  {
   "cell_type": "code",
   "execution_count": 5,
   "metadata": {},
   "outputs": [],
   "source": [
    "activityDF = activity_rdd.toDF()"
   ]
  },
  {
   "cell_type": "code",
   "execution_count": 6,
   "metadata": {},
   "outputs": [
    {
     "name": "stdout",
     "output_type": "stream",
     "text": [
      "+---------+-------------------+---------+----------------+\n",
      "|  home_id|           datetime|code_used|           event|\n",
      "+---------+-------------------+---------+----------------+\n",
      "|H01033638|2014-05-21 01:55:12|     2121|   alarm set off|\n",
      "|H01033638|2014-05-21 01:33:43|     2121|alarm turned off|\n",
      "|H01033638|2014-05-21 01:32:34|     2121|       alarm set|\n",
      "|H01474777|2014-05-20 23:32:04|     5599|       alarm set|\n",
      "|H02257222|2014-05-20 23:29:47|     1566|       alarm set|\n",
      "+---------+-------------------+---------+----------------+\n",
      "\n"
     ]
    }
   ],
   "source": [
    "activityDF.show()"
   ]
  },
  {
   "cell_type": "code",
   "execution_count": 7,
   "metadata": {},
   "outputs": [],
   "source": [
    "new_activity = sc.parallelize([{\"home_id\": \"H01033638\", \"datetime\": \"2018-05-21 01:55:12\", \"code_used\" : \"2121\", \"event\" : \"alarm set off\"}])"
   ]
  },
  {
   "cell_type": "code",
   "execution_count": 8,
   "metadata": {},
   "outputs": [
    {
     "data": {
      "text/plain": [
       "[{'home_id': 'H01033638',\n",
       "  'datetime': '2018-05-21 01:55:12',\n",
       "  'code_used': '2121',\n",
       "  'event': 'alarm set off'}]"
      ]
     },
     "execution_count": 8,
     "metadata": {},
     "output_type": "execute_result"
    }
   ],
   "source": [
    "new_activity.take(1)"
   ]
  },
  {
   "cell_type": "code",
   "execution_count": 9,
   "metadata": {},
   "outputs": [],
   "source": [
    "new_activity.saveToCassandra(\"home_security\", \"activity\")"
   ]
  },
  {
   "cell_type": "code",
   "execution_count": 10,
   "metadata": {},
   "outputs": [],
   "source": [
    "activity_rdd = sc.cassandraTable('home_security', 'activity')"
   ]
  },
  {
   "cell_type": "code",
   "execution_count": 11,
   "metadata": {},
   "outputs": [
    {
     "data": {
      "text/plain": [
       "6"
      ]
     },
     "execution_count": 11,
     "metadata": {},
     "output_type": "execute_result"
    }
   ],
   "source": [
    "activity_rdd.count()"
   ]
  },
  {
   "cell_type": "code",
   "execution_count": null,
   "metadata": {},
   "outputs": [],
   "source": []
  }
 ],
 "metadata": {
  "kernelspec": {
   "display_name": "Python 3",
   "language": "python",
   "name": "python3"
  },
  "language_info": {
   "codemirror_mode": {
    "name": "ipython",
    "version": 3
   },
   "file_extension": ".py",
   "mimetype": "text/x-python",
   "name": "python",
   "nbconvert_exporter": "python",
   "pygments_lexer": "ipython3",
   "version": "3.6.6"
  }
 },
 "nbformat": 4,
 "nbformat_minor": 2
}
