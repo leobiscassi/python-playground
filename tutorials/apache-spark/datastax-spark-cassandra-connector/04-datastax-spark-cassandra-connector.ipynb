{
 "cells": [
  {
   "cell_type": "markdown",
   "metadata": {},
   "source": [
    "# DataStax Spark Cassandra Connector"
   ]
  },
  {
   "cell_type": "markdown",
   "metadata": {},
   "source": [
    "## PySpark DataFrames"
   ]
  },
  {
   "cell_type": "markdown",
   "metadata": {},
   "source": [
    "É possível utilizar o Cassandra com o Apache Spark incluindo o *data source* disponibilizado pela datastax. O melhor jeito de fazer isso é por meio do site spark-packages, o comando no momento de chamar o pyspark fica da seguinte forma:\n",
    "\n",
    "```\n",
    "./bin/pyspark --packages com.datastax.spark:spark-cassandra-connector_2.11:2.3.2 --conf spark.cassandra.connection.host=127.0.0.1\n",
    "```"
   ]
  },
  {
   "cell_type": "markdown",
   "metadata": {},
   "source": [
    "## Loading a DataFrame in Python"
   ]
  },
  {
   "cell_type": "markdown",
   "metadata": {},
   "source": [
    "### Example Loading a Cassandra Table as a Pyspark DataFrame"
   ]
  },
  {
   "cell_type": "code",
   "execution_count": 1,
   "metadata": {},
   "outputs": [],
   "source": [
    "from pyspark.sql import SparkSession"
   ]
  },
  {
   "cell_type": "code",
   "execution_count": 2,
   "metadata": {},
   "outputs": [],
   "source": [
    "spark = SparkSession.builder.appName(\"DataStax Spark CassandraConnector\").getOrCreate()"
   ]
  },
  {
   "cell_type": "code",
   "execution_count": 85,
   "metadata": {},
   "outputs": [],
   "source": [
    "home_activity_df = spark.read.format(\"org.apache.spark.sql.cassandra\").options(table=\"activity\", keyspace=\"home_security\").load()"
   ]
  },
  {
   "cell_type": "code",
   "execution_count": 86,
   "metadata": {},
   "outputs": [
    {
     "name": "stdout",
     "output_type": "stream",
     "text": [
      "+---------+-------------------+---------+----------------+\n",
      "|  home_id|           datetime|code_used|           event|\n",
      "+---------+-------------------+---------+----------------+\n",
      "|H01033638|2014-05-21 01:55:12|     2121|   alarm set off|\n",
      "|H01033638|2014-05-21 01:33:43|     2121|alarm turned off|\n",
      "|H01033638|2014-05-21 01:32:34|     2121|       alarm set|\n",
      "|H01474777|2014-05-20 23:32:04|     5599|       alarm set|\n",
      "|H02257222|2014-05-20 23:29:47|     1566|       alarm set|\n",
      "+---------+-------------------+---------+----------------+\n",
      "\n"
     ]
    }
   ],
   "source": [
    "home_activity_df.show()"
   ]
  },
  {
   "cell_type": "markdown",
   "metadata": {},
   "source": [
    "## Manipulating Cassandra Table's Data with DataFrames"
   ]
  },
  {
   "cell_type": "code",
   "execution_count": 87,
   "metadata": {},
   "outputs": [
    {
     "name": "stdout",
     "output_type": "stream",
     "text": [
      "+---------+-------------------+\n",
      "|  home_id|           datetime|\n",
      "+---------+-------------------+\n",
      "|H01033638|2014-05-21 01:55:12|\n",
      "|H01033638|2014-05-21 01:33:43|\n",
      "|H01033638|2014-05-21 01:32:34|\n",
      "|H01474777|2014-05-20 23:32:04|\n",
      "|H02257222|2014-05-20 23:29:47|\n",
      "+---------+-------------------+\n",
      "\n"
     ]
    }
   ],
   "source": [
    "home_activity_df.select(\"home_id\", \"datetime\").show()"
   ]
  },
  {
   "cell_type": "code",
   "execution_count": 88,
   "metadata": {},
   "outputs": [
    {
     "name": "stdout",
     "output_type": "stream",
     "text": [
      "+---------+-------------------+---------+----------------+\n",
      "|  home_id|           datetime|code_used|           event|\n",
      "+---------+-------------------+---------+----------------+\n",
      "|H01033638|2014-05-21 01:55:12|     2121|   alarm set off|\n",
      "|H01033638|2014-05-21 01:33:43|     2121|alarm turned off|\n",
      "|H01033638|2014-05-21 01:32:34|     2121|       alarm set|\n",
      "+---------+-------------------+---------+----------------+\n",
      "\n"
     ]
    }
   ],
   "source": [
    "home_activity_df.where(home_activity_df[\"code_used\"] == 2121).select(\"*\").show()"
   ]
  },
  {
   "cell_type": "code",
   "execution_count": 89,
   "metadata": {},
   "outputs": [],
   "source": [
    "home_activity_df.createOrReplaceTempView(\"tab_activity\")"
   ]
  },
  {
   "cell_type": "code",
   "execution_count": 90,
   "metadata": {},
   "outputs": [],
   "source": [
    "view_home_activity_df = spark.sql(\"SELECT * FROM tab_activity WHERE code_used = 2121\")"
   ]
  },
  {
   "cell_type": "code",
   "execution_count": 91,
   "metadata": {},
   "outputs": [
    {
     "name": "stdout",
     "output_type": "stream",
     "text": [
      "+---------+-------------------+---------+----------------+\n",
      "|  home_id|           datetime|code_used|           event|\n",
      "+---------+-------------------+---------+----------------+\n",
      "|H01033638|2014-05-21 01:55:12|     2121|   alarm set off|\n",
      "|H01033638|2014-05-21 01:33:43|     2121|alarm turned off|\n",
      "|H01033638|2014-05-21 01:32:34|     2121|       alarm set|\n",
      "+---------+-------------------+---------+----------------+\n",
      "\n"
     ]
    }
   ],
   "source": [
    "view_home_activity_df.show()"
   ]
  },
  {
   "cell_type": "code",
   "execution_count": 92,
   "metadata": {},
   "outputs": [],
   "source": [
    "view_home_activity_df = spark.sql(\"SELECT * FROM tab_activity WHERE event LIKE '%off%'\")"
   ]
  },
  {
   "cell_type": "code",
   "execution_count": 93,
   "metadata": {},
   "outputs": [
    {
     "name": "stdout",
     "output_type": "stream",
     "text": [
      "+---------+-------------------+---------+----------------+\n",
      "|  home_id|           datetime|code_used|           event|\n",
      "+---------+-------------------+---------+----------------+\n",
      "|H01033638|2014-05-21 01:55:12|     2121|   alarm set off|\n",
      "|H01033638|2014-05-21 01:33:43|     2121|alarm turned off|\n",
      "+---------+-------------------+---------+----------------+\n",
      "\n"
     ]
    }
   ],
   "source": [
    "view_home_activity_df.show()"
   ]
  },
  {
   "cell_type": "code",
   "execution_count": 94,
   "metadata": {},
   "outputs": [
    {
     "name": "stdout",
     "output_type": "stream",
     "text": [
      "+---------+-------------------+---------+----------------+\n",
      "|  home_id|           datetime|code_used|           event|\n",
      "+---------+-------------------+---------+----------------+\n",
      "|H01033638|2014-05-21 01:55:12|     2121|   alarm set off|\n",
      "|H01033638|2014-05-21 01:33:43|     2121|alarm turned off|\n",
      "|H01033638|2014-05-21 01:32:34|     2121|       alarm set|\n",
      "|H01474777|2014-05-20 23:32:04|     5599|       alarm set|\n",
      "|H02257222|2014-05-20 23:29:47|     1566|       alarm set|\n",
      "+---------+-------------------+---------+----------------+\n",
      "\n"
     ]
    }
   ],
   "source": [
    "home_activity_df.show()"
   ]
  },
  {
   "cell_type": "markdown",
   "metadata": {},
   "source": [
    "## Saving a DataFrame into Cassandra's Table"
   ]
  },
  {
   "cell_type": "code",
   "execution_count": 95,
   "metadata": {},
   "outputs": [],
   "source": [
    "load_options = { \"table\": \"activity\", \"keyspace\": \"home_security\"}\n",
    "# view_home_activity_df.write.format(\"org.apache.spark.sql.cassandra\").mode(\"overwrite\").options(**load_options).save()\n",
    "view_home_activity_df.write.format(\"org.apache.spark.sql.cassandra\").mode(\"append\").options(**load_options).save()"
   ]
  },
  {
   "cell_type": "code",
   "execution_count": 96,
   "metadata": {},
   "outputs": [
    {
     "name": "stdout",
     "output_type": "stream",
     "text": [
      "+---------+-------------------+---------+----------------+\n",
      "|  home_id|           datetime|code_used|           event|\n",
      "+---------+-------------------+---------+----------------+\n",
      "|H01033638|2014-05-21 01:55:12|     2121|   alarm set off|\n",
      "|H01033638|2014-05-21 01:33:43|     2121|alarm turned off|\n",
      "+---------+-------------------+---------+----------------+\n",
      "\n"
     ]
    }
   ],
   "source": [
    "view_home_activity_df.show()"
   ]
  },
  {
   "cell_type": "code",
   "execution_count": null,
   "metadata": {},
   "outputs": [],
   "source": []
  }
 ],
 "metadata": {
  "kernelspec": {
   "display_name": "Python 3",
   "language": "python",
   "name": "python3"
  },
  "language_info": {
   "codemirror_mode": {
    "name": "ipython",
    "version": 3
   },
   "file_extension": ".py",
   "mimetype": "text/x-python",
   "name": "python",
   "nbconvert_exporter": "python",
   "pygments_lexer": "ipython3",
   "version": "3.6.6"
  }
 },
 "nbformat": 4,
 "nbformat_minor": 2
}
